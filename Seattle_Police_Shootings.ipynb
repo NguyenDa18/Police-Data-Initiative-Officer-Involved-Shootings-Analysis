{
  "nbformat": 4,
  "nbformat_minor": 0,
  "metadata": {
    "colab": {
      "name": "Seattle Police Shootings.ipynb",
      "provenance": [],
      "collapsed_sections": [],
      "authorship_tag": "ABX9TyP0lquokO3HuHv8nGvriGxA",
      "include_colab_link": true
    },
    "kernelspec": {
      "name": "python3",
      "display_name": "Python 3"
    }
  },
  "cells": [
    {
      "cell_type": "markdown",
      "metadata": {
        "id": "view-in-github",
        "colab_type": "text"
      },
      "source": [
        "<a href=\"https://colab.research.google.com/github/NguyenDa18/Police-Data-Initiative-Officer-Involved-Shootings-Analysis/blob/master/Seattle_Police_Shootings.ipynb\" target=\"_parent\"><img src=\"https://colab.research.google.com/assets/colab-badge.svg\" alt=\"Open In Colab\"/></a>"
      ]
    },
    {
      "cell_type": "code",
      "metadata": {
        "id": "xGdchZ9Jysie",
        "colab_type": "code",
        "colab": {}
      },
      "source": [
        "import pandas as pd"
      ],
      "execution_count": 0,
      "outputs": []
    },
    {
      "cell_type": "code",
      "metadata": {
        "id": "sLwvlyvzzquB",
        "colab_type": "code",
        "colab": {}
      },
      "source": [
        "police_shooting_datasets = {\n",
        "    'Seattle_WA': 'https://data.seattle.gov/api/views/mg5r-efcm/rows.csv?accessType=DOWNLOAD'\n",
        "}"
      ],
      "execution_count": 0,
      "outputs": []
    },
    {
      "cell_type": "code",
      "metadata": {
        "id": "YWPua246zw94",
        "colab_type": "code",
        "colab": {}
      },
      "source": [
        "df = pd.read_csv(police_shooting_datasets['Seattle_WA'], parse_dates=['Date'])"
      ],
      "execution_count": 0,
      "outputs": []
    },
    {
      "cell_type": "code",
      "metadata": {
        "id": "JJzes6w20Q--",
        "colab_type": "code",
        "outputId": "dbd24bad-7972-47e2-e898-48a933fd74f0",
        "colab": {
          "base_uri": "https://localhost:8080/",
          "height": 136
        }
      },
      "source": [
        "df.columns"
      ],
      "execution_count": 5,
      "outputs": [
        {
          "output_type": "execute_result",
          "data": {
            "text/plain": [
              "Index(['FRB #', 'GO', 'Date', 'Time', 'Blurred Address', 'Longitude',\n",
              "       'Latitude', 'City', 'State', 'Rank', 'Officer Gender', 'Officer Race',\n",
              "       'Years of SPD Service', 'Officer Injured', 'Number of Rounds',\n",
              "       'Subject Gender', 'Subject Race', 'Subject DOB', 'Subject Age',\n",
              "       'Subject Weapon', 'Type of Weapon', 'Fatal', 'On-duty', 'Justified',\n",
              "       'Within Policy', 'Justified Policy', 'Officer Disciplined?', 'Summary'],\n",
              "      dtype='object')"
            ]
          },
          "metadata": {
            "tags": []
          },
          "execution_count": 5
        }
      ]
    },
    {
      "cell_type": "code",
      "metadata": {
        "id": "SBTBlTJcz1g_",
        "colab_type": "code",
        "outputId": "23023676-fdbd-44aa-ef24-5214fb365987",
        "colab": {
          "base_uri": "https://localhost:8080/",
          "height": 419
        }
      },
      "source": [
        "h = df[['Date', 'Officer Race', 'Subject Gender', 'Subject Race', 'Subject Weapon', 'Justified Policy', 'Officer Disciplined?']]\n",
        "h.sort_values(by='Date')"
      ],
      "execution_count": 7,
      "outputs": [
        {
          "output_type": "execute_result",
          "data": {
            "text/html": [
              "<div>\n",
              "<style scoped>\n",
              "    .dataframe tbody tr th:only-of-type {\n",
              "        vertical-align: middle;\n",
              "    }\n",
              "\n",
              "    .dataframe tbody tr th {\n",
              "        vertical-align: top;\n",
              "    }\n",
              "\n",
              "    .dataframe thead th {\n",
              "        text-align: right;\n",
              "    }\n",
              "</style>\n",
              "<table border=\"1\" class=\"dataframe\">\n",
              "  <thead>\n",
              "    <tr style=\"text-align: right;\">\n",
              "      <th></th>\n",
              "      <th>Date</th>\n",
              "      <th>Officer Race</th>\n",
              "      <th>Subject Gender</th>\n",
              "      <th>Subject Race</th>\n",
              "      <th>Subject Weapon</th>\n",
              "      <th>Justified Policy</th>\n",
              "      <th>Officer Disciplined?</th>\n",
              "    </tr>\n",
              "  </thead>\n",
              "  <tbody>\n",
              "    <tr>\n",
              "      <th>0</th>\n",
              "      <td>2005-03-21</td>\n",
              "      <td>White</td>\n",
              "      <td>Male</td>\n",
              "      <td>Asian</td>\n",
              "      <td>Yes</td>\n",
              "      <td>Missing</td>\n",
              "      <td>Missing</td>\n",
              "    </tr>\n",
              "    <tr>\n",
              "      <th>1</th>\n",
              "      <td>2005-04-29</td>\n",
              "      <td>White</td>\n",
              "      <td>Male</td>\n",
              "      <td>White</td>\n",
              "      <td>No</td>\n",
              "      <td>Justified</td>\n",
              "      <td>No</td>\n",
              "    </tr>\n",
              "    <tr>\n",
              "      <th>2</th>\n",
              "      <td>2005-06-20</td>\n",
              "      <td>White</td>\n",
              "      <td>Male</td>\n",
              "      <td>White</td>\n",
              "      <td>Yes</td>\n",
              "      <td>Justified</td>\n",
              "      <td>No</td>\n",
              "    </tr>\n",
              "    <tr>\n",
              "      <th>3</th>\n",
              "      <td>2005-06-20</td>\n",
              "      <td>White</td>\n",
              "      <td>Male</td>\n",
              "      <td>White</td>\n",
              "      <td>Yes</td>\n",
              "      <td>Justified</td>\n",
              "      <td>No</td>\n",
              "    </tr>\n",
              "    <tr>\n",
              "      <th>4</th>\n",
              "      <td>2005-07-08</td>\n",
              "      <td>White</td>\n",
              "      <td>Male</td>\n",
              "      <td>Black</td>\n",
              "      <td>Yes</td>\n",
              "      <td>Justified</td>\n",
              "      <td>No</td>\n",
              "    </tr>\n",
              "    <tr>\n",
              "      <th>...</th>\n",
              "      <td>...</td>\n",
              "      <td>...</td>\n",
              "      <td>...</td>\n",
              "      <td>...</td>\n",
              "      <td>...</td>\n",
              "      <td>...</td>\n",
              "      <td>...</td>\n",
              "    </tr>\n",
              "    <tr>\n",
              "      <th>90</th>\n",
              "      <td>2016-02-21</td>\n",
              "      <td>White</td>\n",
              "      <td>Male</td>\n",
              "      <td>Black</td>\n",
              "      <td>Yes</td>\n",
              "      <td>Within Policy</td>\n",
              "      <td>No</td>\n",
              "    </tr>\n",
              "    <tr>\n",
              "      <th>113</th>\n",
              "      <td>2016-02-21</td>\n",
              "      <td>White</td>\n",
              "      <td>Male</td>\n",
              "      <td>Black or African American</td>\n",
              "      <td>Yes</td>\n",
              "      <td>Within Policy</td>\n",
              "      <td>No</td>\n",
              "    </tr>\n",
              "    <tr>\n",
              "      <th>105</th>\n",
              "      <td>2016-02-21</td>\n",
              "      <td>White</td>\n",
              "      <td>Male</td>\n",
              "      <td>Black or African American</td>\n",
              "      <td>Yes</td>\n",
              "      <td>Within Policy</td>\n",
              "      <td>No</td>\n",
              "    </tr>\n",
              "    <tr>\n",
              "      <th>89</th>\n",
              "      <td>2016-02-21</td>\n",
              "      <td>White</td>\n",
              "      <td>Male</td>\n",
              "      <td>Black</td>\n",
              "      <td>Yes</td>\n",
              "      <td>Within Policy</td>\n",
              "      <td>No</td>\n",
              "    </tr>\n",
              "    <tr>\n",
              "      <th>100</th>\n",
              "      <td>2016-06-19</td>\n",
              "      <td>White</td>\n",
              "      <td>Male</td>\n",
              "      <td>White</td>\n",
              "      <td>Yes</td>\n",
              "      <td>Within Policy</td>\n",
              "      <td>No</td>\n",
              "    </tr>\n",
              "  </tbody>\n",
              "</table>\n",
              "<p>120 rows × 7 columns</p>\n",
              "</div>"
            ],
            "text/plain": [
              "          Date Officer Race  ... Justified Policy Officer Disciplined?\n",
              "0   2005-03-21        White  ...          Missing              Missing\n",
              "1   2005-04-29        White  ...        Justified                   No\n",
              "2   2005-06-20        White  ...        Justified                   No\n",
              "3   2005-06-20        White  ...        Justified                   No\n",
              "4   2005-07-08        White  ...        Justified                   No\n",
              "..         ...          ...  ...              ...                  ...\n",
              "90  2016-02-21        White  ...    Within Policy                   No\n",
              "113 2016-02-21        White  ...   Within Policy                    No\n",
              "105 2016-02-21        White  ...   Within Policy                    No\n",
              "89  2016-02-21        White  ...    Within Policy                   No\n",
              "100 2016-06-19        White  ...    Within Policy                   No\n",
              "\n",
              "[120 rows x 7 columns]"
            ]
          },
          "metadata": {
            "tags": []
          },
          "execution_count": 7
        }
      ]
    },
    {
      "cell_type": "code",
      "metadata": {
        "id": "Er3JzjDEz_yP",
        "colab_type": "code",
        "colab": {
          "base_uri": "https://localhost:8080/",
          "height": 170
        },
        "outputId": "a3e673b2-b914-4981-edf0-657b5af5a821"
      },
      "source": [
        "df['Subject Race'].value_counts()"
      ],
      "execution_count": 8,
      "outputs": [
        {
          "output_type": "execute_result",
          "data": {
            "text/plain": [
              "White                        60\n",
              "Black                        43\n",
              "Asian                         7\n",
              "Native American               4\n",
              "Black or African American     3\n",
              "Black                         1\n",
              "\\nBlack                       1\n",
              "Hispanic                      1\n",
              "Name: Subject Race, dtype: int64"
            ]
          },
          "metadata": {
            "tags": []
          },
          "execution_count": 8
        }
      ]
    },
    {
      "cell_type": "code",
      "metadata": {
        "id": "OP1G3G8KNfZl",
        "colab_type": "code",
        "colab": {
          "base_uri": "https://localhost:8080/",
          "height": 187
        },
        "outputId": "757dc3d3-56c2-4c0f-d8dd-40421de13f29"
      },
      "source": [
        "df['Officer Race'].value_counts()"
      ],
      "execution_count": 10,
      "outputs": [
        {
          "output_type": "execute_result",
          "data": {
            "text/plain": [
              "White                            95\n",
              "AI/AN                             7\n",
              "Black                             4\n",
              "Hispanic/Latino                   4\n",
              "Asian/Pacific Islander            4\n",
              "Multi-Racial                      2\n",
              "Hispanic or Latino                2\n",
              "Nat Hawaiian/Oth Pac Islander     1\n",
              "American Indian/Alaska Native     1\n",
              "Name: Officer Race, dtype: int64"
            ]
          },
          "metadata": {
            "tags": []
          },
          "execution_count": 10
        }
      ]
    },
    {
      "cell_type": "code",
      "metadata": {
        "id": "-yhPOV2SNiV1",
        "colab_type": "code",
        "colab": {}
      },
      "source": [
        ""
      ],
      "execution_count": 0,
      "outputs": []
    }
  ]
}