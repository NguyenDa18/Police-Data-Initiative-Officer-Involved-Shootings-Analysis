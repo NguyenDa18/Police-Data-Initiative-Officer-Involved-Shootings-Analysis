{
  "nbformat": 4,
  "nbformat_minor": 0,
  "metadata": {
    "colab": {
      "name": "Hampton Police Shootings.ipynb",
      "provenance": [],
      "collapsed_sections": [],
      "authorship_tag": "ABX9TyO/Ss0TpgQa2belLomDf2Qp",
      "include_colab_link": true
    },
    "kernelspec": {
      "name": "python3",
      "display_name": "Python 3"
    }
  },
  "cells": [
    {
      "cell_type": "markdown",
      "metadata": {
        "id": "view-in-github",
        "colab_type": "text"
      },
      "source": [
        "<a href=\"https://colab.research.google.com/github/NguyenDa18/Police-Data-Initiative-Officer-Involved-Shootings-Analysis/blob/master/Hampton_Police_Shootings.ipynb\" target=\"_parent\"><img src=\"https://colab.research.google.com/assets/colab-badge.svg\" alt=\"Open In Colab\"/></a>"
      ]
    },
    {
      "cell_type": "code",
      "metadata": {
        "id": "xGdchZ9Jysie",
        "colab_type": "code",
        "colab": {}
      },
      "source": [
        "import pandas as pd"
      ],
      "execution_count": 0,
      "outputs": []
    },
    {
      "cell_type": "code",
      "metadata": {
        "id": "sLwvlyvzzquB",
        "colab_type": "code",
        "colab": {}
      },
      "source": [
        "police_shooting_datasets = {\n",
        " 'Hampton_VA': 'https://data.hampton.gov/api/views/nhh2-ywzf/rows.csv?accessType=DOWNLOAD'\n",
        "}"
      ],
      "execution_count": 0,
      "outputs": []
    },
    {
      "cell_type": "code",
      "metadata": {
        "id": "YWPua246zw94",
        "colab_type": "code",
        "colab": {}
      },
      "source": [
        "df = pd.read_csv(police_shooting_datasets['Hampton_VA'], parse_dates=['Date '])"
      ],
      "execution_count": 0,
      "outputs": []
    },
    {
      "cell_type": "code",
      "metadata": {
        "id": "JJzes6w20Q--",
        "colab_type": "code",
        "outputId": "0b109105-5a1c-418b-9aa6-89baadc0e409",
        "colab": {
          "base_uri": "https://localhost:8080/",
          "height": 68
        }
      },
      "source": [
        "df.columns"
      ],
      "execution_count": 5,
      "outputs": [
        {
          "output_type": "execute_result",
          "data": {
            "text/plain": [
              "Index(['Report Number', 'Date ', 'Location', 'OFFICER DEMOGRAPHICS',\n",
              "       'SUSPECT DEMOGRAPHICS', 'Summary'],\n",
              "      dtype='object')"
            ]
          },
          "metadata": {
            "tags": []
          },
          "execution_count": 5
        }
      ]
    },
    {
      "cell_type": "code",
      "metadata": {
        "id": "SBTBlTJcz1g_",
        "colab_type": "code",
        "outputId": "0553b3a9-82f3-43bb-889b-f057e60221ff",
        "colab": {
          "base_uri": "https://localhost:8080/",
          "height": 235
        }
      },
      "source": [
        "h = df[['Date ', 'OFFICER DEMOGRAPHICS', 'SUSPECT DEMOGRAPHICS', 'Summary']]\n",
        "h.sort_values(by='Date ')"
      ],
      "execution_count": 8,
      "outputs": [
        {
          "output_type": "execute_result",
          "data": {
            "text/html": [
              "<div>\n",
              "<style scoped>\n",
              "    .dataframe tbody tr th:only-of-type {\n",
              "        vertical-align: middle;\n",
              "    }\n",
              "\n",
              "    .dataframe tbody tr th {\n",
              "        vertical-align: top;\n",
              "    }\n",
              "\n",
              "    .dataframe thead th {\n",
              "        text-align: right;\n",
              "    }\n",
              "</style>\n",
              "<table border=\"1\" class=\"dataframe\">\n",
              "  <thead>\n",
              "    <tr style=\"text-align: right;\">\n",
              "      <th></th>\n",
              "      <th>Date</th>\n",
              "      <th>OFFICER DEMOGRAPHICS</th>\n",
              "      <th>SUSPECT DEMOGRAPHICS</th>\n",
              "      <th>Summary</th>\n",
              "    </tr>\n",
              "  </thead>\n",
              "  <tbody>\n",
              "    <tr>\n",
              "      <th>4</th>\n",
              "      <td>2008-08-14</td>\n",
              "      <td>1 W/M</td>\n",
              "      <td>B/M, 20 YOA</td>\n",
              "      <td>https://data.hampton.gov/views/nhh2-ywzf/files...</td>\n",
              "    </tr>\n",
              "    <tr>\n",
              "      <th>0</th>\n",
              "      <td>2010-07-15</td>\n",
              "      <td>1 W/M,1 B/F</td>\n",
              "      <td>W/M, 40 YOA</td>\n",
              "      <td>https://data.hampton.gov/views/nhh2-ywzf/files...</td>\n",
              "    </tr>\n",
              "    <tr>\n",
              "      <th>1</th>\n",
              "      <td>2011-06-18</td>\n",
              "      <td>1 H/M,1 W/M</td>\n",
              "      <td>W/M, 64 YOA</td>\n",
              "      <td>https://data.hampton.gov/views/nhh2-ywzf/files...</td>\n",
              "    </tr>\n",
              "    <tr>\n",
              "      <th>2</th>\n",
              "      <td>2012-04-18</td>\n",
              "      <td>2 B/M,1 W/M</td>\n",
              "      <td>B/M,  38 YOA</td>\n",
              "      <td>https://data.hampton.gov/views/nhh2-ywzf/files...</td>\n",
              "    </tr>\n",
              "    <tr>\n",
              "      <th>3</th>\n",
              "      <td>2012-07-12</td>\n",
              "      <td>1 H/M, 1 W/M</td>\n",
              "      <td>W/M, 26 YOA</td>\n",
              "      <td>https://data.hampton.gov/views/nhh2-ywzf/files...</td>\n",
              "    </tr>\n",
              "    <tr>\n",
              "      <th>5</th>\n",
              "      <td>2017-06-12</td>\n",
              "      <td>2 W/M</td>\n",
              "      <td>B/M, 29 YOA</td>\n",
              "      <td>https://data.hampton.gov/views/nhh2-ywzf/files...</td>\n",
              "    </tr>\n",
              "  </tbody>\n",
              "</table>\n",
              "</div>"
            ],
            "text/plain": [
              "       Date   ...                                            Summary\n",
              "4 2008-08-14  ...  https://data.hampton.gov/views/nhh2-ywzf/files...\n",
              "0 2010-07-15  ...  https://data.hampton.gov/views/nhh2-ywzf/files...\n",
              "1 2011-06-18  ...  https://data.hampton.gov/views/nhh2-ywzf/files...\n",
              "2 2012-04-18  ...  https://data.hampton.gov/views/nhh2-ywzf/files...\n",
              "3 2012-07-12  ...  https://data.hampton.gov/views/nhh2-ywzf/files...\n",
              "5 2017-06-12  ...  https://data.hampton.gov/views/nhh2-ywzf/files...\n",
              "\n",
              "[6 rows x 4 columns]"
            ]
          },
          "metadata": {
            "tags": []
          },
          "execution_count": 8
        }
      ]
    }
  ]
}